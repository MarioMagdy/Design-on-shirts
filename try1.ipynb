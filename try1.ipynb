{
 "cells": [
  {
   "cell_type": "code",
   "execution_count": 32,
   "metadata": {},
   "outputs": [],
   "source": [
    "import sys\n",
    "# caution: path[0] is reserved for script path (or '' in REPL)\n",
    "sys.path.insert(1, r'G:\\pythoncodenew\\remove_background')\n",
    "from remove_background import remove_background\n",
    "remove_background = remove_background\n"
   ]
  },
  {
   "cell_type": "code",
   "execution_count": null,
   "metadata": {},
   "outputs": [],
   "source": [
    "logo1 = r'logo\\after\\logo1.png'"
   ]
  },
  {
   "cell_type": "code",
   "execution_count": null,
   "metadata": {},
   "outputs": [],
   "source": [
    "remove_background(r'logo\\before\\logo1.jpeg',logo1)"
   ]
  },
  {
   "cell_type": "code",
   "execution_count": 48,
   "metadata": {},
   "outputs": [],
   "source": [
    "\n",
    "mockup1 = {'path': r'mock\\1\\mockup.jpg', 'boxsize': (1100,1100), 'boxanker':(950,350)}\n",
    "# mockup1 = \n",
    "out1 = r'out\\1.jpg'\n",
    "\n"
   ]
  },
  {
   "cell_type": "code",
   "execution_count": 52,
   "metadata": {},
   "outputs": [],
   "source": [
    "# import module\n",
    "from PIL import Image\n",
    "\n",
    "def use_mockup(logo,mockup,out):\n",
    "    # load images\n",
    "    image = Image.open(logo)\n",
    "    background = Image.open(mockup['path'])\n",
    "\n",
    "    # resize image to 700x700\n",
    "    image = image.resize(mockup['boxsize'])\n",
    "\n",
    "    # paste image on background at position 320, 330\n",
    "    background.paste(image, mockup['boxanker'],image)\n",
    "\n",
    "    # save result as new image\n",
    "    background.save(out)\n"
   ]
  },
  {
   "cell_type": "code",
   "execution_count": 53,
   "metadata": {},
   "outputs": [
    {
     "ename": "FileNotFoundError",
     "evalue": "[Errno 2] No such file or directory: 'out\\\\1.jpg'",
     "output_type": "error",
     "traceback": [
      "\u001b[1;31m---------------------------------------------------------------------------\u001b[0m",
      "\u001b[1;31mFileNotFoundError\u001b[0m                         Traceback (most recent call last)",
      "Cell \u001b[1;32mIn[53], line 1\u001b[0m\n\u001b[1;32m----> 1\u001b[0m \u001b[43muse_mockup\u001b[49m\u001b[43m(\u001b[49m\u001b[43mlogo1\u001b[49m\u001b[43m,\u001b[49m\u001b[43mmockup1\u001b[49m\u001b[43m,\u001b[49m\u001b[43mout1\u001b[49m\u001b[43m)\u001b[49m\n",
      "Cell \u001b[1;32mIn[52], line 16\u001b[0m, in \u001b[0;36muse_mockup\u001b[1;34m(logo, mockup, out)\u001b[0m\n\u001b[0;32m     13\u001b[0m background\u001b[38;5;241m.\u001b[39mpaste(image, mockup[\u001b[38;5;124m'\u001b[39m\u001b[38;5;124mboxanker\u001b[39m\u001b[38;5;124m'\u001b[39m],image)\n\u001b[0;32m     15\u001b[0m \u001b[38;5;66;03m# save result as new image\u001b[39;00m\n\u001b[1;32m---> 16\u001b[0m \u001b[43mbackground\u001b[49m\u001b[38;5;241;43m.\u001b[39;49m\u001b[43msave\u001b[49m\u001b[43m(\u001b[49m\u001b[43mout\u001b[49m\u001b[43m)\u001b[49m\n",
      "File \u001b[1;32m~\\AppData\\Local\\Packages\\PythonSoftwareFoundation.Python.3.11_qbz5n2kfra8p0\\LocalCache\\local-packages\\Python311\\site-packages\\PIL\\Image.py:2436\u001b[0m, in \u001b[0;36mImage.save\u001b[1;34m(self, fp, format, **params)\u001b[0m\n\u001b[0;32m   2434\u001b[0m         fp \u001b[38;5;241m=\u001b[39m builtins\u001b[38;5;241m.\u001b[39mopen(filename, \u001b[38;5;124m\"\u001b[39m\u001b[38;5;124mr+b\u001b[39m\u001b[38;5;124m\"\u001b[39m)\n\u001b[0;32m   2435\u001b[0m     \u001b[38;5;28;01melse\u001b[39;00m:\n\u001b[1;32m-> 2436\u001b[0m         fp \u001b[38;5;241m=\u001b[39m builtins\u001b[38;5;241m.\u001b[39mopen(filename, \u001b[38;5;124m\"\u001b[39m\u001b[38;5;124mw+b\u001b[39m\u001b[38;5;124m\"\u001b[39m)\n\u001b[0;32m   2438\u001b[0m \u001b[38;5;28;01mtry\u001b[39;00m:\n\u001b[0;32m   2439\u001b[0m     save_handler(\u001b[38;5;28mself\u001b[39m, fp, filename)\n",
      "\u001b[1;31mFileNotFoundError\u001b[0m: [Errno 2] No such file or directory: 'out\\\\1.jpg'"
     ]
    }
   ],
   "source": [
    "use_mockup(logo1,mockup1,out1)"
   ]
  },
  {
   "cell_type": "code",
   "execution_count": null,
   "metadata": {},
   "outputs": [],
   "source": []
  },
  {
   "cell_type": "markdown",
   "metadata": {},
   "source": []
  },
  {
   "cell_type": "markdown",
   "metadata": {},
   "source": []
  },
  {
   "cell_type": "markdown",
   "metadata": {},
   "source": []
  },
  {
   "cell_type": "code",
   "execution_count": 1,
   "metadata": {},
   "outputs": [],
   "source": [
    "import sys\n",
    "import numpy as np\n",
    "# caution: path[0] is reserved for script path (or '' in REPL)\n",
    "sys.path.insert(1, r'G:\\pythoncodenew\\remove_background')\n",
    "from remove_background import *\n",
    "# remove_background = remove_background\n",
    "\n",
    "logo_num = 3\n",
    "logo = fr'logo\\after\\logo{logo_num}.png'\n",
    "\n",
    "out_num = 3\n",
    "out1 = fr'out\\{out_num}.jpg'\n",
    "\n",
    "mockup1 = {'path': r'mock\\1\\mockup.jpg', 'boxsize': (900,900), 'boxanker':(1050,350)}\n",
    "\n",
    "\n",
    "remove_background(fr'logo\\before\\logo{logo_num}.jpeg',logo)\n",
    "\n",
    "\n",
    "# mockup1 = \n",
    "\n",
    "\n",
    "\n",
    "# import module\n",
    "from PIL import Image\n",
    "\n",
    "def use_mockup(logo,mockup,out):\n",
    "    # load images\n",
    "    image = Image.open(logo)\n",
    "    background = Image.open(mockup['path'])\n",
    "    back_np = np.array(background)\n",
    "    # print(back_np)\n",
    "\n",
    "\n",
    "\n",
    "    # resize image to 700x700\n",
    "    image = image.resize(mockup['boxsize'])\n",
    "\n",
    "    # paste image on background at position 320, 330\n",
    "    background.paste(image, mockup['boxanker'],image)\n",
    "\n",
    "    # save result as new image\n",
    "    background.save(out)\n",
    "\n",
    "use_mockup(logo,mockup1,out1)"
   ]
  },
  {
   "cell_type": "code",
   "execution_count": 2,
   "metadata": {},
   "outputs": [],
   "source": [
    "# np.array()\n",
    "logo_num = 3\n",
    "logo = fr'logo\\after\\logo{logo_num}.png'\n",
    "remove_background(fr'logo\\before\\logo{logo_num}.jpeg',logo)\n",
    "\n",
    "logo_num = 4\n",
    "logo = fr'logo\\after\\logo{logo_num}.png'\n",
    "remove_background2(fr'logo\\before\\logo{logo_num}.jpeg',logo)"
   ]
  },
  {
   "cell_type": "code",
   "execution_count": null,
   "metadata": {},
   "outputs": [],
   "source": []
  },
  {
   "cell_type": "code",
   "execution_count": 3,
   "metadata": {},
   "outputs": [],
   "source": [
    "import sys\n",
    "import numpy as np\n",
    "# caution: path[0] is reserved for script path (or '' in REPL)\n",
    "sys.path.insert(1, r'G:\\pythoncodenew\\remove_background')\n",
    "from remove_background import *\n",
    "# remove_background = remove_background\n",
    "\n",
    "logo_num = 4\n",
    "logo = fr'logo\\after\\logo{logo_num}.png'\n",
    "\n",
    "out_num = 4\n",
    "out1 = fr'out\\{out_num}.jpg'\n",
    "\n",
    "\n",
    "\n",
    "anker = (1050,350)\n",
    "size = 900\n",
    "mockup1 = {'path': r'mock\\1\\mockup.jpg', 'boxsize': (size,size), 'boxanker':(anker,anker),'mid_point': (anker[0]+size//2,anker[1]+size//2)}\n",
    "\n",
    "\n",
    "remove_background2(fr'logo\\before\\logo{logo_num}.jpeg',logo)\n",
    "\n",
    "\n",
    "# mockup1 = \n",
    "\n",
    "\n",
    "\n",
    "# import module\n",
    "from PIL import Image\n",
    "\n",
    "def use_mockup(logo,mockup,out):\n",
    "    # load images\n",
    "    image = Image.open(logo)\n",
    "    background = Image.open(mockup['path'])\n",
    "    back_np = np.array(background)\n",
    "    # print(back_np)\n",
    "\n",
    "\n",
    "\n",
    "    # resize image to 700x700\n",
    "    image = image.resize(mockup['boxsize'])\n",
    "\n",
    "    # paste image on background at position 320, 330\n",
    "    background.paste(image, mockup['boxanker'],image)\n",
    "\n",
    "    # save result as new image\n",
    "    background.save(out)\n",
    "\n",
    "use_mockup(logo,mockup1,out1)"
   ]
  },
  {
   "cell_type": "code",
   "execution_count": 8,
   "metadata": {},
   "outputs": [],
   "source": [
    "anker = (1050,350)\n",
    "size = 800\n",
    "\n",
    "mockup2 = {'path': r'mock\\2\\mockup.jpg', 'boxsize': (size,size), 'boxanker':(1050,350),'mid_point': (anker[0]+size//2,anker[1]+size//2)}\n",
    "\n",
    "\n",
    "# background = Image.open(mockup2['path'])\n",
    "\n",
    "# background = background.crop((anker[0],anker[1],anker[0]+size,anker[1]+size))\n",
    "# background.show()"
   ]
  },
  {
   "cell_type": "code",
   "execution_count": 21,
   "metadata": {},
   "outputs": [],
   "source": [
    "import sys\n",
    "\n",
    "# caution: path[0] is reserved for script path (or '' in REPL)\n",
    "sys.path.insert(1, r'G:\\pythoncodenew\\remove_background')\n",
    "from remove_background import *\n",
    "# remove_background = remove_background\n",
    "\n",
    "logo_num = 2\n",
    "logo = fr'logo\\after\\logo{logo_num}.png'\n",
    "\n",
    "out_num = 6\n",
    "out1 = fr'out\\{out_num}.jpg'\n",
    "\n",
    "# mockup1 = {'path': r'mock\\1\\mockup.jpg', 'boxsize': (900,900), 'boxanker':(1050,350)}\n",
    "\n",
    "\n",
    "remove_background2(fr'logo\\before\\logo{logo_num}.jpeg',logo)\n",
    "\n",
    "\n",
    "# mockup1 = \n",
    "\n",
    "\n",
    "\n",
    "# import module\n",
    "from PIL import Image\n",
    "\n",
    "def use_mockup(logo,mockup,out):\n",
    "    # load images\n",
    "    image = Image.open(logo)\n",
    "    background = Image.open(mockup['path'])\n",
    "    # print(back_np)\n",
    "\n",
    "\n",
    "\n",
    "    # resize image to 700x700\n",
    "    image = image.resize(mockup['boxsize'])\n",
    "\n",
    "    # paste image on background at position 320, 330\n",
    "    background.paste(image, mockup['boxanker'],image)\n",
    "\n",
    "    # save result as new image\n",
    "    background.save(out)\n",
    "\n",
    "\n",
    "def use_mockup2(logo,mockup,out,size=None):\n",
    "    # load images\n",
    "    image = Image.open(logo)\n",
    "    background = Image.open(mockup['path'])\n",
    "    # print(back_np)\n",
    "\n",
    "    if size is None:\n",
    "        size = mockup['boxsize'][0]\n",
    "\n",
    "    # resize image to 700x700\n",
    "    image = image.resize((size,size))\n",
    "\n",
    "    # paste image on background at position 320, 330\n",
    "    background.paste(image, [i-size//2 for i in mockup['mid_point']],image)\n",
    "\n",
    "    # save result as new image\n",
    "    background.save(out)\n",
    "\n",
    "\n",
    "use_mockup(logo,mockup2,out1)\n",
    "\n",
    "\n",
    "out_num = 7\n",
    "out1 = fr'out\\{out_num}.jpg'\n",
    "use_mockup2(logo,mockup2,out1)"
   ]
  },
  {
   "cell_type": "code",
   "execution_count": 10,
   "metadata": {},
   "outputs": [
    {
     "data": {
      "text/plain": [
       "[4, 6]"
      ]
     },
     "execution_count": 10,
     "metadata": {},
     "output_type": "execute_result"
    }
   ],
   "source": [
    "\n",
    "def remove_background2(input_path,output_path, tolerance=30,bing= True):\n",
    "    \n",
    "    # Open the image\n",
    "    image = Image.open(input_path)\n",
    "    \n",
    "    if bing:\n",
    "        image = image.crop((10,10,1014,1014))\n",
    "    # Convert the image to a NumPy array\n",
    "    img_array = np.array(image)\n",
    "\n",
    "    # Find the most common color\n",
    "    background_color = tuple(np.median(img_array, axis=(0, 1)).astype(int))\n",
    "\n",
    "    # Create a mask for pixels within the tolerance range\n",
    "    mask = np.all(np.abs(img_array - background_color) <= tolerance, axis=-1)\n",
    "\n",
    "    alpha_channel = np.ones_like(img_array[..., 0], dtype=np.uint8) * 255\n",
    "\n",
    "    # Set the alpha channel to 0 for transparent pixels\n",
    "    alpha_channel[mask] = 0\n",
    "\n",
    "    # Add the alpha channel to the image array\n",
    "    img_array = np.dstack((img_array, alpha_channel))\n",
    "\n",
    "    # Convert the NumPy array back to an image with an alpha channel\n",
    "    result_image = Image.fromarray(img_array, 'RGBA')\n",
    "\n",
    "\n",
    "    # Convert the NumPy array back to an image\n",
    "    result_image = Image.fromarray(img_array)\n",
    "\n",
    "    # Save the image with no background\n",
    "    result_image.save(output_path, \"PNG\")"
   ]
  },
  {
   "cell_type": "code",
   "execution_count": 24,
   "metadata": {},
   "outputs": [],
   "source": [
    "def remove_watermark(input_path, output_path):\n",
    "    # Open the image\n",
    "    image = Image.open(input_path)\n",
    "    \n",
    "    # Convert the image to a NumPy array\n",
    "    img_array = np.array(image)\n",
    "\n",
    "    if img_array.shape[2] == 3:\n",
    "        # If no alpha channel exists, create one\n",
    "        img_array = np.dstack((img_array, np.ones_like(img_array[..., 0], dtype=np.uint8) * 255))\n",
    "\n",
    "    # Create a mask for the region of the watermark\n",
    "    watermark_mask = np.zeros_like(img_array[..., 0], dtype=bool)\n",
    "    watermark_mask[970:1024, 0:45] = True\n",
    "\n",
    "    # Set the pixels in the watermark region to be transparent\n",
    "    img_array[watermark_mask, 3] = 0  # Set alpha channel to 0 for transparent pixels\n",
    "\n",
    "    # Convert the NumPy array back to an image with an alpha channel\n",
    "    result_image = Image.fromarray(img_array, 'RGBA')\n",
    "\n",
    "    # Save the image with the removed watermark\n",
    "    result_image.save(output_path, \"PNG\")\n",
    "\n",
    "\n",
    "remove_watermark(r'logo\\before\\logo5.jpeg',r'logo\\after\\logo5_no.jpeg')"
   ]
  },
  {
   "cell_type": "code",
   "execution_count": 1,
   "metadata": {},
   "outputs": [
    {
     "ename": "ImportError",
     "evalue": "cannot import name 'generate' from 'BingImageCreator' (C:\\Users\\Mario\\AppData\\Local\\Packages\\PythonSoftwareFoundation.Python.3.11_qbz5n2kfra8p0\\LocalCache\\local-packages\\Python311\\site-packages\\BingImageCreator.py)",
     "output_type": "error",
     "traceback": [
      "\u001b[1;31m---------------------------------------------------------------------------\u001b[0m",
      "\u001b[1;31mImportError\u001b[0m                               Traceback (most recent call last)",
      "Cell \u001b[1;32mIn[1], line 2\u001b[0m\n\u001b[0;32m      1\u001b[0m \u001b[38;5;66;03m# import module\u001b[39;00m\n\u001b[1;32m----> 2\u001b[0m \u001b[38;5;28;01mfrom\u001b[39;00m \u001b[38;5;21;01mBingImageCreator\u001b[39;00m \u001b[38;5;28;01mimport\u001b[39;00m generate\n\u001b[0;32m      4\u001b[0m \u001b[38;5;66;03m# specify prompt\u001b[39;00m\n\u001b[0;32m      5\u001b[0m prompt \u001b[38;5;241m=\u001b[39m \u001b[38;5;124m\"\u001b[39m\u001b[38;5;124ma cute cat wearing a hat\u001b[39m\u001b[38;5;124m\"\u001b[39m\n",
      "\u001b[1;31mImportError\u001b[0m: cannot import name 'generate' from 'BingImageCreator' (C:\\Users\\Mario\\AppData\\Local\\Packages\\PythonSoftwareFoundation.Python.3.11_qbz5n2kfra8p0\\LocalCache\\local-packages\\Python311\\site-packages\\BingImageCreator.py)"
     ]
    }
   ],
   "source": [
    "# import module\n",
    "from BingImageCreator import generate\n",
    "\n",
    "# specify prompt\n",
    "prompt = \"a cute cat wearing a hat\"\n",
    "\n",
    "# specify authentication cookie\n",
    "auth_cookie = \"your_cookie_here\"\n",
    "\n",
    "# generate images\n",
    "images = generate(prompt, auth_cookie)\n",
    "\n",
    "# print images\n",
    "print(images)\n",
    "\n"
   ]
  }
 ],
 "metadata": {
  "kernelspec": {
   "display_name": "Python 3",
   "language": "python",
   "name": "python3"
  },
  "language_info": {
   "codemirror_mode": {
    "name": "ipython",
    "version": 3
   },
   "file_extension": ".py",
   "mimetype": "text/x-python",
   "name": "python",
   "nbconvert_exporter": "python",
   "pygments_lexer": "ipython3",
   "version": "3.11.7"
  }
 },
 "nbformat": 4,
 "nbformat_minor": 2
}
